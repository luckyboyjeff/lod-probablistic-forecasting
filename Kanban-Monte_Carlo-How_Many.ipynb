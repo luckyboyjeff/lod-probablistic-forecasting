{
 "cells": [
  {
   "cell_type": "code",
   "execution_count": null,
   "metadata": {
    "ExecuteTime": {
     "end_time": "2019-03-19T11:58:24.041642Z",
     "start_time": "2019-03-19T11:58:24.015825Z"
    },
    "scrolled": true,
    "slideshow": {
     "slide_type": "-"
    }
   },
   "outputs": [],
   "source": [
    "import pandas as pd\n",
    "from matplotlib import pyplot as plt\n",
    "import matplotlib.ticker as ticker\n",
    "import seaborn as sns\n",
    "from pandas.plotting import register_matplotlib_converters\n",
    "register_matplotlib_converters()\n",
    "%matplotlib inline\n",
    "plt.style.use('fivethirtyeight')\n",
    "plt.rcParams['axes.labelsize'] = 14\n",
    "plt.rcParams['lines.linewidth'] = 1.5\n",
    "darkgrey = '#3A3A3A'\n",
    "lightgrey = '#414141'\n",
    "barblue = plt.rcParams['axes.prop_cycle'].by_key()['color'][0]\n",
    "plt.rcParams['text.color'] = darkgrey\n",
    "plt.rcParams['axes.labelcolor'] = darkgrey\n",
    "plt.rcParams['xtick.color'] = lightgrey\n",
    "plt.rcParams['ytick.color'] = lightgrey"
   ]
  },
  {
   "cell_type": "markdown",
   "metadata": {
    "slideshow": {
     "slide_type": "slide"
    }
   },
   "source": [
    "# Your first Monte Carlo Simulation\n",
    "\n",
    "## Your goal\n",
    "You want to forecast with a monte carlo simulation based on the gathered data of your team. The data is stored in the raw.csv.\n",
    "With your simulation you want to answer the question \"How many stories can we do in a given time span?\"\n",
    "\n",
    "## How this notebook is structurued\n",
    "This notebook gives you a structure on how to create a forecast with a monte carlo simulation. Step by step you analyse the data and create the forecast. Each step builds on the previous one. In order to guide and help you each step consists of:\n",
    "* A small description on what to do in this step\n",
    "* Code for visualizing the data in this step (optional to use it - but saves time)\n",
    "* If you get stuck, don't worry. For each step there is a CSV with data needed for this step.\n",
    "\n",
    "Feel free to follow the structure or find your own way!"
   ]
  },
  {
   "cell_type": "markdown",
   "metadata": {},
   "source": [
    "## 1. Read and check the raw data\n",
    "\n",
    "### Goal\n",
    "This step reads the raw.csv file as pandas.DataFrame and reduces the columns to the data points to calculate throughput (Completed items per day).\n",
    "\n",
    "Get a feeling about the data:\n",
    "* What else is in the data set?\n",
    "* Where could you get this data from in your project?\n",
    "\n",
    "### Input\n",
    "raw.csv\n",
    "\n",
    "### Visualization\n",
    "Output the data as table (e.g. pd.DataFrame.head())"
   ]
  },
  {
   "cell_type": "code",
   "execution_count": null,
   "metadata": {
    "ExecuteTime": {
     "end_time": "2019-03-19T11:58:26.000158Z",
     "start_time": "2019-03-19T11:58:25.922352Z"
    },
    "slideshow": {
     "slide_type": "-"
    }
   },
   "outputs": [],
   "source": [
    "kanban_data = pd.read_csv('raw.csv', usecols=['Done', 'Type'], parse_dates=['Done']).dropna()\n",
    "kanban_data.head(1)"
   ]
  },
  {
   "cell_type": "markdown",
   "metadata": {
    "slideshow": {
     "slide_type": "-"
    }
   },
   "source": [
    "## 2. Read and check the raw data\n",
    "\n",
    "### Goal\n",
    "Calculate the throughput (items completed) per day and visualize it over time (e.g. per day or week). Does the data set look valid?\n",
    "\n",
    "You need the data of througput per day for the next step.\n",
    "\n",
    "### Visualization\n",
    "Code to create a simple plot to show datapoints over time is given. X=Date, Y=Throughput"
   ]
  },
  {
   "cell_type": "code",
   "execution_count": null,
   "metadata": {
    "ExecuteTime": {
     "end_time": "2019-03-19T11:58:28.398266Z",
     "start_time": "2019-03-19T11:58:27.615508Z"
    },
    "scrolled": true,
    "slideshow": {
     "slide_type": "slide"
    }
   },
   "outputs": [],
   "source": [
    "# Use the DataFrame kanban_data of the previous step\n",
    "# Start coding here\n",
    "\n",
    "\n",
    "# Stuck? Use this to proceed to the next step: throughput_per_week = pd.read_csv('throughput_per_week.csv')\n",
    "ax = throughput_per_week.plot(\n",
    "    x='Date', y='Throughput', linewidth=2.5, figsize=(14, 3), legend=None)\n",
    "ax.set_title(\"Throughput per Week\", loc='left', fontdict={\n",
    "             'fontsize': 18, 'fontweight': 'semibold'})\n",
    "ax.set_xlabel('')\n",
    "ax.set_ylabel('Items Completed')\n",
    "ax.axhline(y=0, color=lightgrey, alpha=.5);"
   ]
  },
  {
   "cell_type": "markdown",
   "metadata": {
    "slideshow": {
     "slide_type": "slide"
    }
   },
   "source": [
    "## 3. Run a Monte Carlo Simulation\n",
    "### Goal\n",
    "Run a monte carlo simulation 'how many items can we complete in X days?' with the following steps:\n",
    "* Define the datapoints you want to use for the simulation (e.g. last 100 days)\n",
    "* Define the number of days you want to simulate (e.g. 14 days)\n",
    "* Simulate the number of days at least 10000 times by randomly picking data points for each day\n",
    "\n",
    "The result is a distribution of how many times a number of completed items has occured in the simulations.\n",
    "\n",
    "### Visualization\n",
    "Given: Code to create simple bar plot to visualize the output of the simulation: X=Items Completed, Y=# of occurences of this number of items completed"
   ]
  },
  {
   "cell_type": "code",
   "execution_count": null,
   "metadata": {
    "ExecuteTime": {
     "end_time": "2019-03-19T11:58:38.653720Z",
     "start_time": "2019-03-19T11:58:29.803815Z"
    },
    "slideshow": {
     "slide_type": "slide"
    }
   },
   "outputs": [],
   "source": [
    "### SIMULATION INPUT ####\n",
    "LAST_DAYS = 100\n",
    "SIMULATION_DAYS = 14\n",
    "SIMULATIONS = 10000\n",
    "###\n",
    "\n",
    "# Start coding here, use \"throughput per day\" of the previous step\n",
    "\n",
    "\n",
    "# Stuck? Use this to proceed to the next step: distribution = pd.read_csv('distribution.csv')\n",
    "plt.figure(figsize=(14, 3))\n",
    "ax = sns.barplot(x='Items', y='Frequency', data=distribution, color=barblue)\n",
    "ax.set_title(f\"Distribution of Monte Carlo Simulation 'How Many' ({SIMULATIONS} Runs)\", loc='left',\n",
    "             fontdict={'size': 18, 'weight': 'semibold'})\n",
    "ax.set_xlabel(f\"Total Items Completed in {SIMULATION_DAYS} Days\")\n",
    "ax.set_ylabel('Frequency')\n",
    "ax.axhline(y=SIMULATIONS*0.001, color=darkgrey, alpha=.5);"
   ]
  },
  {
   "cell_type": "markdown",
   "metadata": {
    "slideshow": {
     "slide_type": "slide"
    }
   },
   "source": [
    "## 3. Analysis of the Probabilities of Occurence\n",
    "### Goal\n",
    "Use the distribution of the simulation to calculate the probability that a number of items is completed.\n",
    "\n",
    "### Visualization\n",
    "Given: Code to create simple bar plot to visualize the output of the simulation and highlight the percentiles 95%, 85%, 70%: \n",
    "* X=Items Completed, Y=Probability to copmlete the # of items\n",
    "* To highlight the percentiles the samples of the simulation are needed (list of throughput)"
   ]
  },
  {
   "cell_type": "code",
   "execution_count": null,
   "metadata": {
    "ExecuteTime": {
     "end_time": "2019-03-19T11:58:41.235419Z",
     "start_time": "2019-03-19T11:58:40.423494Z"
    },
    "scrolled": true,
    "slideshow": {
     "slide_type": "slide"
    }
   },
   "outputs": [],
   "source": [
    "# Start coding here, use the distribution DataFrame of the previous step.\n",
    "\n",
    "\n",
    "\n",
    "# Stuck? Use this to proceed to the next step: \n",
    "#samples = pd.read_csv('samples.csv')\n",
    "#probability = pd.read_csv('probability.csv')\n",
    "plt.figure(figsize=(14, 5))\n",
    "ax = sns.barplot(x='Items', y='Probability', data=probability, color=barblue)\n",
    "ax.text(x=-1.4, y=118,\n",
    "        s=f\"Probabilities of Completing a Scope in {SIMULATION_DAYS} Days\", fontsize=18, fontweight='semibold')\n",
    "ax.text(x=-1.4, y=110,\n",
    "        s=f\"Based on a Monte Carlo Simulations ({SIMULATIONS} Runs) with data of last {LAST_DAYS} days\", fontsize=16)\n",
    "ax.set_ylabel('')\n",
    "ax.set_xlabel('Total Items Completed')\n",
    "ax.axhline(y=0.5, color=darkgrey, alpha=.5)\n",
    "ax.axhline(y=70, color=darkgrey, linestyle='--')\n",
    "ax.axhline(y=85, color=darkgrey, linestyle='--')\n",
    "ax.axhline(y=95, color=darkgrey, linestyle='--')\n",
    "label_xpos = distribution['Items'].max()-2\n",
    "ax.text(y=70, x=label_xpos, s=f'70%% (%d+ Items)' % samples.Items.quantile(0.3),\n",
    "        va='center', ha='center', backgroundcolor='#F0F0F0')\n",
    "ax.text(y=85, x=label_xpos, s=f'85%% (%d+ Items)' % samples.Items.quantile(0.15),\n",
    "        va='center', ha='center', backgroundcolor='#F0F0F0')\n",
    "ax.text(y=95, x=label_xpos, s=f'95%% (%d+ Items)' % samples.Items.quantile(0.05),\n",
    "        va='center', ha='center', backgroundcolor='#F0F0F0')\n",
    "ax.set_yticklabels(labels=['0', '20', '40', '60', '80', '100%']);"
   ]
  }
 ],
 "metadata": {
  "kernelspec": {
   "display_name": "Python 3",
   "language": "python",
   "name": "python3"
  },
  "language_info": {
   "codemirror_mode": {
    "name": "ipython",
    "version": 3
   },
   "file_extension": ".py",
   "mimetype": "text/x-python",
   "name": "python",
   "nbconvert_exporter": "python",
   "pygments_lexer": "ipython3",
   "version": "3.7.3"
  },
  "varInspector": {
   "cols": {
    "lenName": 16,
    "lenType": 16,
    "lenVar": 40
   },
   "kernels_config": {
    "python": {
     "delete_cmd_postfix": "",
     "delete_cmd_prefix": "del ",
     "library": "var_list.py",
     "varRefreshCmd": "print(var_dic_list())"
    },
    "r": {
     "delete_cmd_postfix": ") ",
     "delete_cmd_prefix": "rm(",
     "library": "var_list.r",
     "varRefreshCmd": "cat(var_dic_list()) "
    }
   },
   "types_to_exclude": [
    "module",
    "function",
    "builtin_function_or_method",
    "instance",
    "_Feature"
   ],
   "window_display": false
  }
 },
 "nbformat": 4,
 "nbformat_minor": 4
}
